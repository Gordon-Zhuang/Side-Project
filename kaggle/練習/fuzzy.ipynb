{
 "cells": [
  {
   "cell_type": "code",
   "execution_count": 1,
   "metadata": {},
   "outputs": [],
   "source": [
    "import requests\n",
    "from alpha_vantage.techindicators import TechIndicators\n",
    "import skfuzzy as fuzz\n",
    "import skfuzzy.control as ctrl\n",
    "import numpy as np\n",
    "from datetime import date,timedelta\n",
    "import sys"
   ]
  },
  {
   "cell_type": "code",
   "execution_count": 2,
   "metadata": {},
   "outputs": [],
   "source": [
    "xrange = np.arange(-1,1,0.05,dtype=np.float32)\n",
    "x = ctrl.Antecedent(xrange, 'x')\n",
    "#y = ctrl.Antecedent(xrange, 'y')\n",
    "x['L'] = fuzz.trapmf(xrange,[-1,-1,-0.4,-0.1])\n",
    "x['M'] = fuzz.trapmf(xrange,[-0.25,0,0,0.25])\n",
    "x['H'] = fuzz.trapmf(xrange,[0.1,0.4,1,1])\n",
    "#y['L'] = fuzz.trapmf(xrange,[-1,-1,-0.4,-0.1])\n",
    "#y['M'] = fuzz.trapmf(xrange,[-0.25,0,0,0.25])\n",
    "#y['H'] = fuzz.trapmf(xrange,[0.1,0.4,1,1])"
   ]
  },
  {
   "cell_type": "code",
   "execution_count": 3,
   "metadata": {},
   "outputs": [],
   "source": [
    "srange = np.arange(-1,1,0.05,dtype=np.float32)\n",
    "s = ctrl.Consequent(srange, 's')\n",
    "s['L'] = fuzz.trapmf(xrange,[-1,-1,-0.8,-0.4])\n",
    "s['M'] = fuzz.trapmf(xrange,[-0.4,0,0,0.4])\n",
    "s['H'] = fuzz.trapmf(xrange,[0.4,0.8,1,1])\n",
    "s.defuzzify_method='centroid'"
   ]
  },
  {
   "cell_type": "code",
   "execution_count": 4,
   "metadata": {},
   "outputs": [],
   "source": [
    "rule = list()\n",
    "rule.append(\n",
    "    ctrl.Rule(antecedent = (x['L'] ), consequent = s['L'])\n",
    ")\n",
    "rule.append(\n",
    "    ctrl.Rule(antecedent = (x['M'] ), consequent = s['M'])\n",
    ")\n",
    "rule.append(\n",
    "    ctrl.Rule(antecedent = (x['H']), consequent = s['H'])\n",
    ")"
   ]
  },
  {
   "cell_type": "code",
   "execution_count": 6,
   "metadata": {},
   "outputs": [
    {
     "data": {
      "text/plain": [
       "<skfuzzy.control.controlsystem.ControlSystemSimulation at 0x2c3d2b7b668>"
      ]
     },
     "execution_count": 6,
     "metadata": {},
     "output_type": "execute_result"
    }
   ],
   "source": [
    "system = ctrl.ControlSystem(rules=rule)\n",
    "sim = ctrl.ControlSystemSimulation(system)"
   ]
  },
  {
   "cell_type": "code",
   "execution_count": 9,
   "metadata": {},
   "outputs": [],
   "source": [
    "sim.input['x'] = 0.15"
   ]
  },
  {
   "cell_type": "code",
   "execution_count": 10,
   "metadata": {},
   "outputs": [
    {
     "data": {
      "text/plain": [
       "0.17400601185165993"
      ]
     },
     "execution_count": 10,
     "metadata": {},
     "output_type": "execute_result"
    }
   ],
   "source": [
    "sim.compute()\n",
    "sim.output['s']"
   ]
  },
  {
   "cell_type": "code",
   "execution_count": null,
   "metadata": {},
   "outputs": [],
   "source": []
  }
 ],
 "metadata": {
  "kernelspec": {
   "display_name": "Python 3",
   "language": "python",
   "name": "python3"
  },
  "language_info": {
   "codemirror_mode": {
    "name": "ipython",
    "version": 3
   },
   "file_extension": ".py",
   "mimetype": "text/x-python",
   "name": "python",
   "nbconvert_exporter": "python",
   "pygments_lexer": "ipython3",
   "version": "3.6.12"
  }
 },
 "nbformat": 4,
 "nbformat_minor": 4
}
