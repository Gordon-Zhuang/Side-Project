{
 "cells": [
  {
   "cell_type": "code",
   "execution_count": 31,
   "metadata": {},
   "outputs": [],
   "source": [
    "import pandas as pd\n",
    "import numpy as np\n",
    "import pickle\n",
    "import joblib\n",
    "\n",
    "from tkinter import filedialog\n",
    "from sklearn.model_selection import train_test_split\n",
    "from sklearn.neighbors import KNeighborsClassifier, KNeighborsRegressor\n",
    "from sklearn import metrics\n",
    "from sklearn.metrics import classification_report"
   ]
  },
  {
   "cell_type": "code",
   "execution_count": 2,
   "metadata": {},
   "outputs": [
    {
     "data": {
      "text/html": [
       "<div>\n",
       "<style scoped>\n",
       "    .dataframe tbody tr th:only-of-type {\n",
       "        vertical-align: middle;\n",
       "    }\n",
       "\n",
       "    .dataframe tbody tr th {\n",
       "        vertical-align: top;\n",
       "    }\n",
       "\n",
       "    .dataframe thead th {\n",
       "        text-align: right;\n",
       "    }\n",
       "</style>\n",
       "<table border=\"1\" class=\"dataframe\">\n",
       "  <thead>\n",
       "    <tr style=\"text-align: right;\">\n",
       "      <th></th>\n",
       "      <th>Unnamed: 0</th>\n",
       "      <th>Acceleration_in_X</th>\n",
       "      <th>Acceleration_in_Y</th>\n",
       "      <th>Acceleration_in_Z</th>\n",
       "      <th>Roll</th>\n",
       "      <th>Pitch</th>\n",
       "      <th>Yaw</th>\n",
       "      <th>Lane_change</th>\n",
       "      <th>turning</th>\n",
       "      <th>braking</th>\n",
       "      <th>acceleration</th>\n",
       "    </tr>\n",
       "  </thead>\n",
       "  <tbody>\n",
       "    <tr>\n",
       "      <th>0</th>\n",
       "      <td>0</td>\n",
       "      <td>-0.005</td>\n",
       "      <td>0.008</td>\n",
       "      <td>0.018</td>\n",
       "      <td>-1.523</td>\n",
       "      <td>0.015</td>\n",
       "      <td>0.012</td>\n",
       "      <td>0.0</td>\n",
       "      <td>0.0</td>\n",
       "      <td>0.0</td>\n",
       "      <td>0.0</td>\n",
       "    </tr>\n",
       "    <tr>\n",
       "      <th>1</th>\n",
       "      <td>1</td>\n",
       "      <td>0.016</td>\n",
       "      <td>-0.002</td>\n",
       "      <td>0.018</td>\n",
       "      <td>-1.522</td>\n",
       "      <td>0.012</td>\n",
       "      <td>0.012</td>\n",
       "      <td>0.0</td>\n",
       "      <td>0.0</td>\n",
       "      <td>0.0</td>\n",
       "      <td>0.0</td>\n",
       "    </tr>\n",
       "    <tr>\n",
       "      <th>2</th>\n",
       "      <td>2</td>\n",
       "      <td>0.037</td>\n",
       "      <td>-0.005</td>\n",
       "      <td>0.018</td>\n",
       "      <td>-1.520</td>\n",
       "      <td>0.014</td>\n",
       "      <td>0.011</td>\n",
       "      <td>0.0</td>\n",
       "      <td>0.0</td>\n",
       "      <td>0.0</td>\n",
       "      <td>0.0</td>\n",
       "    </tr>\n",
       "    <tr>\n",
       "      <th>3</th>\n",
       "      <td>3</td>\n",
       "      <td>0.038</td>\n",
       "      <td>-0.009</td>\n",
       "      <td>0.024</td>\n",
       "      <td>-1.523</td>\n",
       "      <td>0.014</td>\n",
       "      <td>0.011</td>\n",
       "      <td>0.0</td>\n",
       "      <td>0.0</td>\n",
       "      <td>0.0</td>\n",
       "      <td>0.0</td>\n",
       "    </tr>\n",
       "    <tr>\n",
       "      <th>4</th>\n",
       "      <td>4</td>\n",
       "      <td>0.012</td>\n",
       "      <td>-0.016</td>\n",
       "      <td>0.032</td>\n",
       "      <td>-1.525</td>\n",
       "      <td>0.012</td>\n",
       "      <td>0.011</td>\n",
       "      <td>0.0</td>\n",
       "      <td>0.0</td>\n",
       "      <td>0.0</td>\n",
       "      <td>0.0</td>\n",
       "    </tr>\n",
       "    <tr>\n",
       "      <th>...</th>\n",
       "      <td>...</td>\n",
       "      <td>...</td>\n",
       "      <td>...</td>\n",
       "      <td>...</td>\n",
       "      <td>...</td>\n",
       "      <td>...</td>\n",
       "      <td>...</td>\n",
       "      <td>...</td>\n",
       "      <td>...</td>\n",
       "      <td>...</td>\n",
       "      <td>...</td>\n",
       "    </tr>\n",
       "    <tr>\n",
       "      <th>301526</th>\n",
       "      <td>301526</td>\n",
       "      <td>0.012</td>\n",
       "      <td>-0.008</td>\n",
       "      <td>0.046</td>\n",
       "      <td>-1.486</td>\n",
       "      <td>-0.027</td>\n",
       "      <td>1.616</td>\n",
       "      <td>0.0</td>\n",
       "      <td>0.0</td>\n",
       "      <td>1.0</td>\n",
       "      <td>0.0</td>\n",
       "    </tr>\n",
       "    <tr>\n",
       "      <th>301527</th>\n",
       "      <td>301527</td>\n",
       "      <td>0.018</td>\n",
       "      <td>-0.007</td>\n",
       "      <td>0.038</td>\n",
       "      <td>-1.488</td>\n",
       "      <td>-0.028</td>\n",
       "      <td>1.613</td>\n",
       "      <td>0.0</td>\n",
       "      <td>0.0</td>\n",
       "      <td>1.0</td>\n",
       "      <td>0.0</td>\n",
       "    </tr>\n",
       "    <tr>\n",
       "      <th>301528</th>\n",
       "      <td>301528</td>\n",
       "      <td>0.010</td>\n",
       "      <td>-0.001</td>\n",
       "      <td>0.029</td>\n",
       "      <td>-1.490</td>\n",
       "      <td>-0.031</td>\n",
       "      <td>1.610</td>\n",
       "      <td>0.0</td>\n",
       "      <td>0.0</td>\n",
       "      <td>1.0</td>\n",
       "      <td>0.0</td>\n",
       "    </tr>\n",
       "    <tr>\n",
       "      <th>301529</th>\n",
       "      <td>301529</td>\n",
       "      <td>-0.007</td>\n",
       "      <td>0.005</td>\n",
       "      <td>0.025</td>\n",
       "      <td>-1.491</td>\n",
       "      <td>-0.033</td>\n",
       "      <td>1.608</td>\n",
       "      <td>0.0</td>\n",
       "      <td>0.0</td>\n",
       "      <td>1.0</td>\n",
       "      <td>0.0</td>\n",
       "    </tr>\n",
       "    <tr>\n",
       "      <th>301530</th>\n",
       "      <td>301530</td>\n",
       "      <td>-0.006</td>\n",
       "      <td>0.015</td>\n",
       "      <td>0.019</td>\n",
       "      <td>-1.494</td>\n",
       "      <td>-0.034</td>\n",
       "      <td>1.605</td>\n",
       "      <td>0.0</td>\n",
       "      <td>0.0</td>\n",
       "      <td>1.0</td>\n",
       "      <td>0.0</td>\n",
       "    </tr>\n",
       "  </tbody>\n",
       "</table>\n",
       "<p>301531 rows × 11 columns</p>\n",
       "</div>"
      ],
      "text/plain": [
       "        Unnamed: 0  Acceleration_in_X  Acceleration_in_Y  Acceleration_in_Z  \\\n",
       "0                0             -0.005              0.008              0.018   \n",
       "1                1              0.016             -0.002              0.018   \n",
       "2                2              0.037             -0.005              0.018   \n",
       "3                3              0.038             -0.009              0.024   \n",
       "4                4              0.012             -0.016              0.032   \n",
       "...            ...                ...                ...                ...   \n",
       "301526      301526              0.012             -0.008              0.046   \n",
       "301527      301527              0.018             -0.007              0.038   \n",
       "301528      301528              0.010             -0.001              0.029   \n",
       "301529      301529             -0.007              0.005              0.025   \n",
       "301530      301530             -0.006              0.015              0.019   \n",
       "\n",
       "         Roll  Pitch    Yaw  Lane_change  turning  braking  acceleration  \n",
       "0      -1.523  0.015  0.012          0.0      0.0      0.0           0.0  \n",
       "1      -1.522  0.012  0.012          0.0      0.0      0.0           0.0  \n",
       "2      -1.520  0.014  0.011          0.0      0.0      0.0           0.0  \n",
       "3      -1.523  0.014  0.011          0.0      0.0      0.0           0.0  \n",
       "4      -1.525  0.012  0.011          0.0      0.0      0.0           0.0  \n",
       "...       ...    ...    ...          ...      ...      ...           ...  \n",
       "301526 -1.486 -0.027  1.616          0.0      0.0      1.0           0.0  \n",
       "301527 -1.488 -0.028  1.613          0.0      0.0      1.0           0.0  \n",
       "301528 -1.490 -0.031  1.610          0.0      0.0      1.0           0.0  \n",
       "301529 -1.491 -0.033  1.608          0.0      0.0      1.0           0.0  \n",
       "301530 -1.494 -0.034  1.605          0.0      0.0      1.0           0.0  \n",
       "\n",
       "[301531 rows x 11 columns]"
      ]
     },
     "execution_count": 2,
     "metadata": {},
     "output_type": "execute_result"
    }
   ],
   "source": [
    "file1 = filedialog.askopenfilename()\n",
    "rawdata = pd.read_csv(file1, sep=\",\",  skip_blank_lines=True)#inputfile\n",
    "rawdata"
   ]
  },
  {
   "cell_type": "code",
   "execution_count": 32,
   "metadata": {},
   "outputs": [
    {
     "data": {
      "text/plain": [
       "array([[-5.000e-03,  8.000e-03,  1.800e-02, -1.523e+00,  1.500e-02,\n",
       "         1.200e-02],\n",
       "       [ 1.600e-02, -2.000e-03,  1.800e-02, -1.522e+00,  1.200e-02,\n",
       "         1.200e-02],\n",
       "       [ 3.700e-02, -5.000e-03,  1.800e-02, -1.520e+00,  1.400e-02,\n",
       "         1.100e-02],\n",
       "       ...,\n",
       "       [ 1.000e-02, -1.000e-03,  2.900e-02, -1.490e+00, -3.100e-02,\n",
       "         1.610e+00],\n",
       "       [-7.000e-03,  5.000e-03,  2.500e-02, -1.491e+00, -3.300e-02,\n",
       "         1.608e+00],\n",
       "       [-6.000e-03,  1.500e-02,  1.900e-02, -1.494e+00, -3.400e-02,\n",
       "         1.605e+00]])"
      ]
     },
     "execution_count": 32,
     "metadata": {},
     "output_type": "execute_result"
    }
   ],
   "source": [
    "driveraw = rawdata.to_numpy()#choose six feature\n",
    "drivedata = driveraw[:, 1:7]\n",
    "drivedata"
   ]
  },
  {
   "cell_type": "code",
   "execution_count": 33,
   "metadata": {},
   "outputs": [],
   "source": [
    "lanechange_label = driveraw[:, 7]#choose label\n",
    "breaking_label = driveraw[:, 9]"
   ]
  },
  {
   "cell_type": "code",
   "execution_count": 34,
   "metadata": {},
   "outputs": [
    {
     "data": {
      "text/plain": [
       "KNeighborsRegressor(n_neighbors=100, weights='distance')"
      ]
     },
     "execution_count": 34,
     "metadata": {},
     "output_type": "execute_result"
    }
   ],
   "source": [
    "lanchange_model = KNeighborsRegressor(n_neighbors=100, p=2, weights='distance')#trian model\n",
    "lanchange_model.fit(drivedata, lanechange_label)"
   ]
  },
  {
   "cell_type": "code",
   "execution_count": 26,
   "metadata": {},
   "outputs": [
    {
     "data": {
      "text/plain": [
       "array([0.])"
      ]
     },
     "execution_count": 26,
     "metadata": {},
     "output_type": "execute_result"
    }
   ],
   "source": [
    "a = lanchange_model.predict([[-0.007,0.005,0.025,-1.491,-0.033,1.608]])\n",
    "a"
   ]
  },
  {
   "cell_type": "code",
   "execution_count": 23,
   "metadata": {},
   "outputs": [
    {
     "data": {
      "text/plain": [
       "['C:/Users/gordon_zhuang/Desktop/車用實習/imu machine learning/KNN_predict/lanchange_model']"
      ]
     },
     "execution_count": 23,
     "metadata": {},
     "output_type": "execute_result"
    }
   ],
   "source": [
    "joblib.dump(lanchange_model, 'C:/Users/gordon_zhuang/Desktop/車用實習/imu machine learning/KNN_predict/lanchange_model')"
   ]
  },
  {
   "cell_type": "code",
   "execution_count": 24,
   "metadata": {},
   "outputs": [
    {
     "data": {
      "text/plain": [
       "KNeighborsRegressor(n_neighbors=100, weights='distance')"
      ]
     },
     "execution_count": 24,
     "metadata": {},
     "output_type": "execute_result"
    }
   ],
   "source": [
    "breaking_model =  KNeighborsRegressor(n_neighbors=100, p=2, weights='distance')\n",
    "breaking_model.fit(drivedata, breaking_label)"
   ]
  },
  {
   "cell_type": "code",
   "execution_count": 28,
   "metadata": {},
   "outputs": [
    {
     "data": {
      "text/plain": [
       "array([1.])"
      ]
     },
     "execution_count": 28,
     "metadata": {},
     "output_type": "execute_result"
    }
   ],
   "source": [
    "a = breaking_model.predict([[-0.007,0.005,0.025,-1.491,-0.033,1.608]])\n",
    "a"
   ]
  },
  {
   "cell_type": "code",
   "execution_count": 30,
   "metadata": {},
   "outputs": [
    {
     "data": {
      "text/plain": [
       "['C:/Users/gordon_zhuang/Desktop/車用實習/imu machine learning/KNN_predict/breaking_model']"
      ]
     },
     "execution_count": 30,
     "metadata": {},
     "output_type": "execute_result"
    }
   ],
   "source": [
    "joblib.dump(breaking_model, 'C:/Users/gordon_zhuang/Desktop/車用實習/imu machine learning/KNN_predict/breaking_model')"
   ]
  },
  {
   "cell_type": "code",
   "execution_count": null,
   "metadata": {},
   "outputs": [],
   "source": []
  },
  {
   "cell_type": "code",
   "execution_count": 60,
   "metadata": {},
   "outputs": [],
   "source": [
    "import xgboost as xgb\n",
    "from xgboost.sklearn import XGBClassifier\n",
    "from sklearn.ensemble import RandomForestClassifier"
   ]
  },
  {
   "cell_type": "code",
   "execution_count": 61,
   "metadata": {},
   "outputs": [],
   "source": [
    "lanechange_train_data, lanechange_test_data, lanechange_train_label, lanechange_test_label = train_test_split(drivedata, lanechange_label, test_size=0.5)\n",
    "breaking_train_data, breaking_test_data, breaking_train_label, breaking_test_label = train_test_split(drivedata, breaking_label, test_size=0.5)"
   ]
  },
  {
   "cell_type": "markdown",
   "metadata": {},
   "source": [
    "/////////////random forest training/////////"
   ]
  },
  {
   "cell_type": "code",
   "execution_count": 72,
   "metadata": {},
   "outputs": [],
   "source": [
    "lanchange_RandomForest_model = RandomForestClassifier(n_estimators=1000, \n",
    "                                                      criterion='gini', \n",
    "                                                      max_depth=None,  \n",
    "                                                      min_samples_split=2, \n",
    "                                                      min_samples_leaf=1,  \n",
    "                                                      min_weight_fraction_leaf=0.0,  \n",
    "                                                      max_features='auto',  \n",
    "                                                      max_leaf_nodes=None, \n",
    "                                                      bootstrap=True,  \n",
    "                                                      oob_score=True, \n",
    "                                                      n_jobs=1, \n",
    "                                                      random_state=None, \n",
    "                                                      verbose=0,  \n",
    "                                                      warm_start=False, \n",
    "                                                      class_weight=None)"
   ]
  },
  {
   "cell_type": "code",
   "execution_count": 73,
   "metadata": {},
   "outputs": [
    {
     "name": "stdout",
     "output_type": "stream",
     "text": [
      "0.9927\n"
     ]
    }
   ],
   "source": [
    "lanchange_RandomForest_model.fit(lanechange_train_data, lanechange_train_label)\n",
    "print(\"%.4f\" % lanchange_RandomForest_model.oob_score_)"
   ]
  },
  {
   "cell_type": "code",
   "execution_count": 74,
   "metadata": {},
   "outputs": [],
   "source": [
    "lanchange_RF_predict = lanchange_RandomForest_model.predict(lanechange_test_data)"
   ]
  },
  {
   "cell_type": "code",
   "execution_count": 75,
   "metadata": {},
   "outputs": [
    {
     "name": "stdout",
     "output_type": "stream",
     "text": [
      "              precision    recall  f1-score   support\n",
      "\n",
      "        -2.0     1.0000    0.4922    0.6597       321\n",
      "        -1.0     0.9927    0.6405    0.7786       854\n",
      "         0.0     0.9922    1.0000    0.9961    148061\n",
      "         1.0     0.9967    0.5468    0.7062      1110\n",
      "         2.0     0.9956    0.5429    0.7026       420\n",
      "\n",
      "    accuracy                         0.9922    150766\n",
      "   macro avg     0.9955    0.6445    0.7687    150766\n",
      "weighted avg     0.9923    0.9922    0.9912    150766\n",
      "\n"
     ]
    }
   ],
   "source": [
    "report = classification_report(lanechange_test_label, lanchange_RF_predict, digits=4)#precision and recall\n",
    "print(report)"
   ]
  },
  {
   "cell_type": "code",
   "execution_count": 76,
   "metadata": {},
   "outputs": [],
   "source": [
    "breaking_RandomForest_model = RandomForestClassifier(n_estimators=1000, \n",
    "                                                      criterion='gini', \n",
    "                                                      max_depth=None,  \n",
    "                                                      min_samples_split=2, \n",
    "                                                      min_samples_leaf=1,  \n",
    "                                                      min_weight_fraction_leaf=0.0,  \n",
    "                                                      max_features='auto',  \n",
    "                                                      max_leaf_nodes=None, \n",
    "                                                      bootstrap=True,  \n",
    "                                                      oob_score=True, \n",
    "                                                      n_jobs=1, \n",
    "                                                      random_state=None, \n",
    "                                                      verbose=0,  \n",
    "                                                      warm_start=False, \n",
    "                                                      class_weight=None)"
   ]
  },
  {
   "cell_type": "code",
   "execution_count": 77,
   "metadata": {},
   "outputs": [
    {
     "name": "stdout",
     "output_type": "stream",
     "text": [
      "0.9857\n"
     ]
    }
   ],
   "source": [
    "breaking_RandomForest_model.fit(breaking_train_data,  breaking_train_label)\n",
    "print(\"%.4f\" % breaking_RandomForest_model.oob_score_)"
   ]
  },
  {
   "cell_type": "code",
   "execution_count": 78,
   "metadata": {},
   "outputs": [],
   "source": [
    "breaking_RF_predict = breaking_RandomForest_model.predict(breaking_test_data)"
   ]
  },
  {
   "cell_type": "code",
   "execution_count": 79,
   "metadata": {},
   "outputs": [
    {
     "name": "stdout",
     "output_type": "stream",
     "text": [
      "              precision    recall  f1-score   support\n",
      "\n",
      "         0.0     0.9869    0.9992    0.9930    144588\n",
      "         1.0     0.9486    0.6395    0.7640      4674\n",
      "         2.0     0.9965    0.8086    0.8928      1426\n",
      "         3.0     1.0000    0.8590    0.9241        78\n",
      "\n",
      "    accuracy                         0.9862    150766\n",
      "   macro avg     0.9830    0.8266    0.8935    150766\n",
      "weighted avg     0.9858    0.9862    0.9849    150766\n",
      "\n"
     ]
    }
   ],
   "source": [
    "report = classification_report(breaking_test_label,breaking_RF_predict, digits=4)#precision and recall\n",
    "print(report)"
   ]
  },
  {
   "cell_type": "code",
   "execution_count": 80,
   "metadata": {},
   "outputs": [
    {
     "data": {
      "text/plain": [
       "['C:/Users/gordon_zhuang/Desktop/車用實習/imu machine learning/KNN_predict/lanchange_RandomForest_model']"
      ]
     },
     "execution_count": 80,
     "metadata": {},
     "output_type": "execute_result"
    }
   ],
   "source": [
    "joblib.dump(lanchange_RandomForest_model, 'C:/Users/gordon_zhuang/Desktop/車用實習/imu machine learning/KNN_predict/lanchange_RandomForest_model')"
   ]
  },
  {
   "cell_type": "code",
   "execution_count": 81,
   "metadata": {},
   "outputs": [
    {
     "data": {
      "text/plain": [
       "['C:/Users/gordon_zhuang/Desktop/車用實習/imu machine learning/KNN_predict/breaking_RandomForest_model']"
      ]
     },
     "execution_count": 81,
     "metadata": {},
     "output_type": "execute_result"
    }
   ],
   "source": [
    "joblib.dump(breaking_RandomForest_model, 'C:/Users/gordon_zhuang/Desktop/車用實習/imu machine learning/KNN_predict/breaking_RandomForest_model')"
   ]
  },
  {
   "cell_type": "markdown",
   "metadata": {},
   "source": [
    "/////////////XGBoost training/////////"
   ]
  },
  {
   "cell_type": "code",
   "execution_count": 51,
   "metadata": {},
   "outputs": [],
   "source": [
    "lanechange_XGB_bodel = XGBClassifier(\n",
    "                    n_estimators=1000,\n",
    "                    learning_rate= 0.1, # 如同學習率\n",
    "                    max_depth=6,                    \n",
    "                    subsample=1, # 隨機取樣訓練樣本 訓練例項的子取樣比                    \n",
    "                    gamma=0.1, # 用於控制是否後剪枝的引數,越大越保守，一般0.1、0.2這樣子                  \n",
    "                    reg_lambda=1,  # 控制模型複雜度的權重值的L2正則化項引數，引數越大，模型越不容易過擬合。                    \n",
    "                    max_delta_step=0,#最大增量步長，我們允許每個樹的權重估計。                 \n",
    "                    colsample_bytree=1, # 生成樹時進行的列取樣 \n",
    "                    # 這個引數預設是 1，是每個葉子裡面 h 的和至少是多少，對正負樣本不均衡時的 0-1 分類而言\n",
    "                    # 假設 h 在 0.01 附近，min_child_weight 為 1 意味著葉子節點中最少需要包含 100 個樣本。\n",
    "                    #這個引數非常影響結果，控制葉子節點中二階導的和的最小值，該引數值越小，越容易 overfitting。\n",
    "                    min_child_weight=0.1,           \n",
    "                    seed=1000  #隨機種子\n",
    "                    #reg_alpha=0,  # L1 正則項引數                    \n",
    "                    #scale_pos_weight=1, #如果取值大於0的話，在類別樣本不平衡的情況下有助於快速收斂。平衡正負權重                    \n",
    "                    #objective= 'multi:softmax', #多分類的問題 指定學習任務和相應的學習目標\n",
    "                    #num_class=10,  # 類別數，多分類與 multisoftmax 並用\n",
    "                    #silent=0 ,  # 設定成1則沒有執行資訊輸出，最好是設定為0.是否在執行升級時列印訊息。  \n",
    "                    #nthread=4, # cpu 執行緒數 預設最大\n",
    "                    #eval_metric= 'auc'\n",
    ")"
   ]
  },
  {
   "cell_type": "code",
   "execution_count": 52,
   "metadata": {},
   "outputs": [
    {
     "name": "stdout",
     "output_type": "stream",
     "text": [
      "[10:49:48] WARNING: C:/Users/Administrator/workspace/xgboost-win64_release_1.3.0/src/learner.cc:1061: Starting in XGBoost 1.3.0, the default evaluation metric used with the objective 'multi:softprob' was changed from 'merror' to 'mlogloss'. Explicitly set eval_metric if you'd like to restore the old behavior.\n"
     ]
    },
    {
     "data": {
      "text/plain": [
       "XGBClassifier(base_score=0.5, booster='gbtree', colsample_bylevel=1,\n",
       "              colsample_bynode=1, colsample_bytree=1, gamma=0.1, gpu_id=-1,\n",
       "              importance_type='gain', interaction_constraints='',\n",
       "              learning_rate=0.1, max_delta_step=0, max_depth=6,\n",
       "              min_child_weight=0.1, missing=nan, monotone_constraints='()',\n",
       "              n_estimators=1000, n_jobs=12, num_parallel_tree=1,\n",
       "              objective='multi:softprob', random_state=1000, reg_alpha=0,\n",
       "              reg_lambda=1, scale_pos_weight=None, seed=1000, subsample=1,\n",
       "              tree_method='exact', validate_parameters=1, verbosity=None)"
      ]
     },
     "execution_count": 52,
     "metadata": {},
     "output_type": "execute_result"
    }
   ],
   "source": [
    "lanechange_XGB_bodel.fit(lanechange_train_data, lanechange_train_label)"
   ]
  },
  {
   "cell_type": "code",
   "execution_count": 53,
   "metadata": {},
   "outputs": [],
   "source": [
    "lanchange_XGB_predict = lanechange_XGB_bodel.predict(lanechange_test_data)"
   ]
  },
  {
   "cell_type": "code",
   "execution_count": 54,
   "metadata": {},
   "outputs": [
    {
     "name": "stdout",
     "output_type": "stream",
     "text": [
      "              precision    recall  f1-score   support\n",
      "\n",
      "        -2.0     0.9489    0.6799    0.7922       328\n",
      "        -1.0     0.9882    0.6834    0.8080       859\n",
      "         0.0     0.9941    0.9998    0.9969    148020\n",
      "         1.0     0.9903    0.6240    0.7656      1149\n",
      "         2.0     0.9629    0.8220    0.8868       410\n",
      "\n",
      "    accuracy                         0.9939    150766\n",
      "   macro avg     0.9769    0.7618    0.8499    150766\n",
      "weighted avg     0.9938    0.9939    0.9933    150766\n",
      "\n"
     ]
    }
   ],
   "source": [
    "report = classification_report(lanechange_test_label,lanchange_XGB_predict, digits=4)#precision and recall\n",
    "print(report)"
   ]
  },
  {
   "cell_type": "code",
   "execution_count": 55,
   "metadata": {},
   "outputs": [],
   "source": [
    "breaking_XGB_bodel = XGBClassifier(\n",
    "                    n_estimators=1000,\n",
    "                    learning_rate= 0.1, # 如同學習率\n",
    "                    max_depth=3,                    \n",
    "                    subsample=1, # 隨機取樣訓練樣本 訓練例項的子取樣比                    \n",
    "                    gamma=0.1, # 用於控制是否後剪枝的引數,越大越保守，一般0.1、0.2這樣子                  \n",
    "                    reg_lambda=1,  # 控制模型複雜度的權重值的L2正則化項引數，引數越大，模型越不容易過擬合。                    \n",
    "                    max_delta_step=0,#最大增量步長，我們允許每個樹的權重估計。                 \n",
    "                    colsample_bytree=1, # 生成樹時進行的列取樣 \n",
    "                    # 這個引數預設是 1，是每個葉子裡面 h 的和至少是多少，對正負樣本不均衡時的 0-1 分類而言\n",
    "                    # 假設 h 在 0.01 附近，min_child_weight 為 1 意味著葉子節點中最少需要包含 100 個樣本。\n",
    "                    #這個引數非常影響結果，控制葉子節點中二階導的和的最小值，該引數值越小，越容易 overfitting。\n",
    "                    min_child_weight=0.1,           \n",
    "                    seed=1000  #隨機種子\n",
    "                    #reg_alpha=0,  # L1 正則項引數                    \n",
    "                    #scale_pos_weight=1, #如果取值大於0的話，在類別樣本不平衡的情況下有助於快速收斂。平衡正負權重                    \n",
    "                    #objective= 'multi:softmax', #多分類的問題 指定學習任務和相應的學習目標\n",
    "                    #num_class=10,  # 類別數，多分類與 multisoftmax 並用\n",
    "                    #silent=0 ,  # 設定成1則沒有執行資訊輸出，最好是設定為0.是否在執行升級時列印訊息。  \n",
    "                    #nthread=4, # cpu 執行緒數 預設最大\n",
    "                    #eval_metric= 'auc'\n",
    ")"
   ]
  },
  {
   "cell_type": "code",
   "execution_count": 56,
   "metadata": {},
   "outputs": [
    {
     "name": "stdout",
     "output_type": "stream",
     "text": [
      "[10:51:45] WARNING: C:/Users/Administrator/workspace/xgboost-win64_release_1.3.0/src/learner.cc:1061: Starting in XGBoost 1.3.0, the default evaluation metric used with the objective 'multi:softprob' was changed from 'merror' to 'mlogloss'. Explicitly set eval_metric if you'd like to restore the old behavior.\n"
     ]
    },
    {
     "data": {
      "text/plain": [
       "XGBClassifier(base_score=0.5, booster='gbtree', colsample_bylevel=1,\n",
       "              colsample_bynode=1, colsample_bytree=1, gamma=0.1, gpu_id=-1,\n",
       "              importance_type='gain', interaction_constraints='',\n",
       "              learning_rate=0.1, max_delta_step=0, max_depth=3,\n",
       "              min_child_weight=0.1, missing=nan, monotone_constraints='()',\n",
       "              n_estimators=1000, n_jobs=12, num_parallel_tree=1,\n",
       "              objective='multi:softprob', random_state=1000, reg_alpha=0,\n",
       "              reg_lambda=1, scale_pos_weight=None, seed=1000, subsample=1,\n",
       "              tree_method='exact', validate_parameters=1, verbosity=None)"
      ]
     },
     "execution_count": 56,
     "metadata": {},
     "output_type": "execute_result"
    }
   ],
   "source": [
    "breaking_XGB_bodel.fit(drivedata, breaking_label)"
   ]
  },
  {
   "cell_type": "code",
   "execution_count": 57,
   "metadata": {},
   "outputs": [],
   "source": [
    "breaking_XGB_predict = breaking_XGB_bodel.predict(breaking_test_data)"
   ]
  },
  {
   "cell_type": "code",
   "execution_count": 58,
   "metadata": {},
   "outputs": [
    {
     "name": "stdout",
     "output_type": "stream",
     "text": [
      "              precision    recall  f1-score   support\n",
      "\n",
      "         0.0     0.9814    0.9985    0.9899    144555\n",
      "         1.0     0.9124    0.4770    0.6265      4717\n",
      "         2.0     0.9800    0.7972    0.8792      1415\n",
      "         3.0     1.0000    1.0000    1.0000        79\n",
      "\n",
      "    accuracy                         0.9803    150766\n",
      "   macro avg     0.9685    0.8182    0.8739    150766\n",
      "weighted avg     0.9792    0.9803    0.9775    150766\n",
      "\n"
     ]
    }
   ],
   "source": [
    "report = classification_report(breaking_test_label,breaking_XGB_predict, digits=4)#precision and recall\n",
    "print(report)"
   ]
  },
  {
   "cell_type": "code",
   "execution_count": 44,
   "metadata": {},
   "outputs": [
    {
     "data": {
      "text/plain": [
       "['C:/Users/gordon_zhuang/Desktop/車用實習/imu machine learning/KNN_predict/lanechange_XGB_model']"
      ]
     },
     "execution_count": 44,
     "metadata": {},
     "output_type": "execute_result"
    }
   ],
   "source": [
    "joblib.dump(lanechange_XGB_bodel, 'C:/Users/gordon_zhuang/Desktop/車用實習/imu machine learning/KNN_predict/lanechange_XGB_model')"
   ]
  },
  {
   "cell_type": "code",
   "execution_count": 45,
   "metadata": {},
   "outputs": [
    {
     "data": {
      "text/plain": [
       "['C:/Users/gordon_zhuang/Desktop/車用實習/imu machine learning/KNN_predict/breaking_XGB_model']"
      ]
     },
     "execution_count": 45,
     "metadata": {},
     "output_type": "execute_result"
    }
   ],
   "source": [
    "joblib.dump(breaking_XGB_bodel, 'C:/Users/gordon_zhuang/Desktop/車用實習/imu machine learning/KNN_predict/breaking_XGB_model')"
   ]
  },
  {
   "cell_type": "code",
   "execution_count": 46,
   "metadata": {},
   "outputs": [
    {
     "data": {
      "text/plain": [
       "numpy.ndarray"
      ]
     },
     "execution_count": 46,
     "metadata": {},
     "output_type": "execute_result"
    }
   ],
   "source": [
    "type(breaking_test_data)"
   ]
  },
  {
   "cell_type": "code",
   "execution_count": null,
   "metadata": {},
   "outputs": [],
   "source": []
  }
 ],
 "metadata": {
  "kernelspec": {
   "display_name": "Python 3",
   "language": "python",
   "name": "python3"
  },
  "language_info": {
   "codemirror_mode": {
    "name": "ipython",
    "version": 3
   },
   "file_extension": ".py",
   "mimetype": "text/x-python",
   "name": "python",
   "nbconvert_exporter": "python",
   "pygments_lexer": "ipython3",
   "version": "3.6.12"
  }
 },
 "nbformat": 4,
 "nbformat_minor": 4
}
