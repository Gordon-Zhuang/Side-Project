{
 "cells": [
  {
   "cell_type": "code",
   "execution_count": 1,
   "metadata": {},
   "outputs": [],
   "source": [
    "import pandas as pd\n",
    "import numpy as np\n",
    "import pickle\n",
    "import joblib\n",
    "\n",
    "from tkinter import filedialog\n",
    "from sklearn.model_selection import train_test_split\n",
    "from sklearn.neighbors import KNeighborsClassifier, KNeighborsRegressor\n",
    "from sklearn import metrics\n",
    "from sklearn.metrics import classification_report"
   ]
  },
  {
   "cell_type": "code",
   "execution_count": 9,
   "metadata": {},
   "outputs": [
    {
     "data": {
      "text/html": [
       "<div>\n",
       "<style scoped>\n",
       "    .dataframe tbody tr th:only-of-type {\n",
       "        vertical-align: middle;\n",
       "    }\n",
       "\n",
       "    .dataframe tbody tr th {\n",
       "        vertical-align: top;\n",
       "    }\n",
       "\n",
       "    .dataframe thead th {\n",
       "        text-align: right;\n",
       "    }\n",
       "</style>\n",
       "<table border=\"1\" class=\"dataframe\">\n",
       "  <thead>\n",
       "    <tr style=\"text-align: right;\">\n",
       "      <th></th>\n",
       "      <th>Unnamed: 0</th>\n",
       "      <th>Acceleration_in_X</th>\n",
       "      <th>Acceleration_in_Y</th>\n",
       "      <th>Acceleration_in_Z</th>\n",
       "      <th>Roll</th>\n",
       "      <th>Pitch</th>\n",
       "      <th>Yaw</th>\n",
       "      <th>Lane_change</th>\n",
       "      <th>turning</th>\n",
       "      <th>braking</th>\n",
       "      <th>acceleration</th>\n",
       "    </tr>\n",
       "  </thead>\n",
       "  <tbody>\n",
       "    <tr>\n",
       "      <th>0</th>\n",
       "      <td>0</td>\n",
       "      <td>-0.005</td>\n",
       "      <td>0.008</td>\n",
       "      <td>0.018</td>\n",
       "      <td>-1.523</td>\n",
       "      <td>0.015</td>\n",
       "      <td>0.012</td>\n",
       "      <td>0.0</td>\n",
       "      <td>0.0</td>\n",
       "      <td>0.0</td>\n",
       "      <td>0.0</td>\n",
       "    </tr>\n",
       "    <tr>\n",
       "      <th>1</th>\n",
       "      <td>1</td>\n",
       "      <td>0.016</td>\n",
       "      <td>-0.002</td>\n",
       "      <td>0.018</td>\n",
       "      <td>-1.522</td>\n",
       "      <td>0.012</td>\n",
       "      <td>0.012</td>\n",
       "      <td>0.0</td>\n",
       "      <td>0.0</td>\n",
       "      <td>0.0</td>\n",
       "      <td>0.0</td>\n",
       "    </tr>\n",
       "    <tr>\n",
       "      <th>2</th>\n",
       "      <td>2</td>\n",
       "      <td>0.037</td>\n",
       "      <td>-0.005</td>\n",
       "      <td>0.018</td>\n",
       "      <td>-1.520</td>\n",
       "      <td>0.014</td>\n",
       "      <td>0.011</td>\n",
       "      <td>0.0</td>\n",
       "      <td>0.0</td>\n",
       "      <td>0.0</td>\n",
       "      <td>0.0</td>\n",
       "    </tr>\n",
       "    <tr>\n",
       "      <th>3</th>\n",
       "      <td>3</td>\n",
       "      <td>0.038</td>\n",
       "      <td>-0.009</td>\n",
       "      <td>0.024</td>\n",
       "      <td>-1.523</td>\n",
       "      <td>0.014</td>\n",
       "      <td>0.011</td>\n",
       "      <td>0.0</td>\n",
       "      <td>0.0</td>\n",
       "      <td>0.0</td>\n",
       "      <td>0.0</td>\n",
       "    </tr>\n",
       "    <tr>\n",
       "      <th>4</th>\n",
       "      <td>4</td>\n",
       "      <td>0.012</td>\n",
       "      <td>-0.016</td>\n",
       "      <td>0.032</td>\n",
       "      <td>-1.525</td>\n",
       "      <td>0.012</td>\n",
       "      <td>0.011</td>\n",
       "      <td>0.0</td>\n",
       "      <td>0.0</td>\n",
       "      <td>0.0</td>\n",
       "      <td>0.0</td>\n",
       "    </tr>\n",
       "    <tr>\n",
       "      <th>...</th>\n",
       "      <td>...</td>\n",
       "      <td>...</td>\n",
       "      <td>...</td>\n",
       "      <td>...</td>\n",
       "      <td>...</td>\n",
       "      <td>...</td>\n",
       "      <td>...</td>\n",
       "      <td>...</td>\n",
       "      <td>...</td>\n",
       "      <td>...</td>\n",
       "      <td>...</td>\n",
       "    </tr>\n",
       "    <tr>\n",
       "      <th>301526</th>\n",
       "      <td>301526</td>\n",
       "      <td>0.012</td>\n",
       "      <td>-0.008</td>\n",
       "      <td>0.046</td>\n",
       "      <td>-1.486</td>\n",
       "      <td>-0.027</td>\n",
       "      <td>1.616</td>\n",
       "      <td>0.0</td>\n",
       "      <td>0.0</td>\n",
       "      <td>1.0</td>\n",
       "      <td>0.0</td>\n",
       "    </tr>\n",
       "    <tr>\n",
       "      <th>301527</th>\n",
       "      <td>301527</td>\n",
       "      <td>0.018</td>\n",
       "      <td>-0.007</td>\n",
       "      <td>0.038</td>\n",
       "      <td>-1.488</td>\n",
       "      <td>-0.028</td>\n",
       "      <td>1.613</td>\n",
       "      <td>0.0</td>\n",
       "      <td>0.0</td>\n",
       "      <td>1.0</td>\n",
       "      <td>0.0</td>\n",
       "    </tr>\n",
       "    <tr>\n",
       "      <th>301528</th>\n",
       "      <td>301528</td>\n",
       "      <td>0.010</td>\n",
       "      <td>-0.001</td>\n",
       "      <td>0.029</td>\n",
       "      <td>-1.490</td>\n",
       "      <td>-0.031</td>\n",
       "      <td>1.610</td>\n",
       "      <td>0.0</td>\n",
       "      <td>0.0</td>\n",
       "      <td>1.0</td>\n",
       "      <td>0.0</td>\n",
       "    </tr>\n",
       "    <tr>\n",
       "      <th>301529</th>\n",
       "      <td>301529</td>\n",
       "      <td>-0.007</td>\n",
       "      <td>0.005</td>\n",
       "      <td>0.025</td>\n",
       "      <td>-1.491</td>\n",
       "      <td>-0.033</td>\n",
       "      <td>1.608</td>\n",
       "      <td>0.0</td>\n",
       "      <td>0.0</td>\n",
       "      <td>1.0</td>\n",
       "      <td>0.0</td>\n",
       "    </tr>\n",
       "    <tr>\n",
       "      <th>301530</th>\n",
       "      <td>301530</td>\n",
       "      <td>-0.006</td>\n",
       "      <td>0.015</td>\n",
       "      <td>0.019</td>\n",
       "      <td>-1.494</td>\n",
       "      <td>-0.034</td>\n",
       "      <td>1.605</td>\n",
       "      <td>0.0</td>\n",
       "      <td>0.0</td>\n",
       "      <td>1.0</td>\n",
       "      <td>0.0</td>\n",
       "    </tr>\n",
       "  </tbody>\n",
       "</table>\n",
       "<p>301531 rows × 11 columns</p>\n",
       "</div>"
      ],
      "text/plain": [
       "        Unnamed: 0  Acceleration_in_X  Acceleration_in_Y  Acceleration_in_Z  \\\n",
       "0                0             -0.005              0.008              0.018   \n",
       "1                1              0.016             -0.002              0.018   \n",
       "2                2              0.037             -0.005              0.018   \n",
       "3                3              0.038             -0.009              0.024   \n",
       "4                4              0.012             -0.016              0.032   \n",
       "...            ...                ...                ...                ...   \n",
       "301526      301526              0.012             -0.008              0.046   \n",
       "301527      301527              0.018             -0.007              0.038   \n",
       "301528      301528              0.010             -0.001              0.029   \n",
       "301529      301529             -0.007              0.005              0.025   \n",
       "301530      301530             -0.006              0.015              0.019   \n",
       "\n",
       "         Roll  Pitch    Yaw  Lane_change  turning  braking  acceleration  \n",
       "0      -1.523  0.015  0.012          0.0      0.0      0.0           0.0  \n",
       "1      -1.522  0.012  0.012          0.0      0.0      0.0           0.0  \n",
       "2      -1.520  0.014  0.011          0.0      0.0      0.0           0.0  \n",
       "3      -1.523  0.014  0.011          0.0      0.0      0.0           0.0  \n",
       "4      -1.525  0.012  0.011          0.0      0.0      0.0           0.0  \n",
       "...       ...    ...    ...          ...      ...      ...           ...  \n",
       "301526 -1.486 -0.027  1.616          0.0      0.0      1.0           0.0  \n",
       "301527 -1.488 -0.028  1.613          0.0      0.0      1.0           0.0  \n",
       "301528 -1.490 -0.031  1.610          0.0      0.0      1.0           0.0  \n",
       "301529 -1.491 -0.033  1.608          0.0      0.0      1.0           0.0  \n",
       "301530 -1.494 -0.034  1.605          0.0      0.0      1.0           0.0  \n",
       "\n",
       "[301531 rows x 11 columns]"
      ]
     },
     "execution_count": 9,
     "metadata": {},
     "output_type": "execute_result"
    }
   ],
   "source": [
    "file1 = filedialog.askopenfilename()\n",
    "rawdata = pd.read_csv(file1, sep=\",\",  skip_blank_lines=True)#inputfile\n",
    "rawdata"
   ]
  },
  {
   "cell_type": "code",
   "execution_count": 23,
   "metadata": {},
   "outputs": [
    {
     "data": {
      "text/plain": [
       "array([[ 8.000e-03,  1.800e-02, -1.523e+00,  1.500e-02,  1.200e-02],\n",
       "       [-2.000e-03,  1.800e-02, -1.522e+00,  1.200e-02,  1.200e-02],\n",
       "       [-5.000e-03,  1.800e-02, -1.520e+00,  1.400e-02,  1.100e-02],\n",
       "       ...,\n",
       "       [-1.000e-03,  2.900e-02, -1.490e+00, -3.100e-02,  1.610e+00],\n",
       "       [ 5.000e-03,  2.500e-02, -1.491e+00, -3.300e-02,  1.608e+00],\n",
       "       [ 1.500e-02,  1.900e-02, -1.494e+00, -3.400e-02,  1.605e+00]])"
      ]
     },
     "execution_count": 23,
     "metadata": {},
     "output_type": "execute_result"
    }
   ],
   "source": [
    "driveraw = rawdata.to_numpy()#choose six feature\n",
    "drivedata = driveraw[:, 2:7]\n",
    "drivedata"
   ]
  },
  {
   "cell_type": "code",
   "execution_count": 11,
   "metadata": {},
   "outputs": [
    {
     "data": {
      "text/plain": [
       "array([0., 0., 0., ..., 0., 0., 0.])"
      ]
     },
     "execution_count": 11,
     "metadata": {},
     "output_type": "execute_result"
    }
   ],
   "source": [
    "drivelabel = driveraw[:, 7]#choose label\n",
    "drivelabel.astype(int)\n",
    "drivelabel"
   ]
  },
  {
   "cell_type": "code",
   "execution_count": 12,
   "metadata": {},
   "outputs": [],
   "source": [
    "lanchange_model = joblib.load('lanchange_model')"
   ]
  },
  {
   "cell_type": "code",
   "execution_count": 13,
   "metadata": {},
   "outputs": [],
   "source": [
    "lanchange_predict = lanchange_model.predict(drivedata)"
   ]
  },
  {
   "cell_type": "code",
   "execution_count": 14,
   "metadata": {},
   "outputs": [],
   "source": [
    "answer = []\n",
    "for i in range(len(lanchange_predict)):\n",
    "    if -2.5 < lanchange_predict[i] < -1.5:\n",
    "        answer.append(-2)\n",
    "    elif -1.5 < lanchange_predict[i] < -0.5:\n",
    "        answer.append(-1)\n",
    "    elif -0.5 < lanchange_predict[i] < 0.5:\n",
    "        answer.append(0)\n",
    "    elif 0.5 < lanchange_predict[i] < 1.5:\n",
    "        answer.append(1)\n",
    "    elif 1.5 < lanchange_predict[i] < 2.5:\n",
    "        answer.append(2)"
   ]
  },
  {
   "cell_type": "code",
   "execution_count": 15,
   "metadata": {},
   "outputs": [
    {
     "data": {
      "text/plain": [
       "1.0"
      ]
     },
     "execution_count": 15,
     "metadata": {},
     "output_type": "execute_result"
    }
   ],
   "source": [
    "metrics.accuracy_score(drivelabel,answer)"
   ]
  },
  {
   "cell_type": "code",
   "execution_count": 4,
   "metadata": {},
   "outputs": [],
   "source": [
    "breaking_model = joblib.load('breaking_model')"
   ]
  },
  {
   "cell_type": "code",
   "execution_count": 5,
   "metadata": {},
   "outputs": [
    {
     "data": {
      "text/plain": [
       "array([1.])"
      ]
     },
     "execution_count": 5,
     "metadata": {},
     "output_type": "execute_result"
    }
   ],
   "source": [
    "a = breaking_predict = breaking_model.predict([[-0.007,0.005,0.025,-1.491,-0.033,1.608]])\n",
    "a"
   ]
  },
  {
   "cell_type": "code",
   "execution_count": 18,
   "metadata": {},
   "outputs": [],
   "source": [
    "breaking_answer = []\n",
    "for i in range(len(breaking_predict)):\n",
    "    if breaking_predict[i] <= 0.75:\n",
    "        breaking_answer.append(0)\n",
    "    elif 0.75 < breaking_predict[i] <= 1.5:\n",
    "        breaking_answer.append(1)\n",
    "    elif 1.5 < breaking_predict[i] <= 2.25:\n",
    "        breaking_answer.append(2)\n",
    "    elif 2.25 < breaking_predict[i] <= 3:\n",
    "        breaking_answer.append(3)"
   ]
  },
  {
   "cell_type": "code",
   "execution_count": 19,
   "metadata": {},
   "outputs": [
    {
     "data": {
      "text/plain": [
       "0.9493849720260935"
      ]
     },
     "execution_count": 19,
     "metadata": {},
     "output_type": "execute_result"
    }
   ],
   "source": [
    "breaking_label = driveraw[:, 9]#choose label\n",
    "breaking_label.astype(int)\n",
    "metrics.accuracy_score(breaking_label, breaking_answer)"
   ]
  },
  {
   "cell_type": "code",
   "execution_count": 20,
   "metadata": {},
   "outputs": [
    {
     "name": "stderr",
     "output_type": "stream",
     "text": [
      "C:\\Users\\gordon_zhuang\\Anaconda3\\envs\\forjupyter\\lib\\site-packages\\sklearn\\metrics\\_classification.py:1221: UndefinedMetricWarning: Precision and F-score are ill-defined and being set to 0.0 in labels with no predicted samples. Use `zero_division` parameter to control this behavior.\n",
      "  _warn_prf(average, modifier, msg_start, len(result))\n",
      "C:\\Users\\gordon_zhuang\\Anaconda3\\envs\\forjupyter\\lib\\site-packages\\sklearn\\metrics\\_classification.py:1221: UndefinedMetricWarning: Recall and F-score are ill-defined and being set to 0.0 in labels with no true samples. Use `zero_division` parameter to control this behavior.\n",
      "  _warn_prf(average, modifier, msg_start, len(result))\n"
     ]
    },
    {
     "name": "stdout",
     "output_type": "stream",
     "text": [
      "              precision    recall  f1-score   support\n",
      "\n",
      "        -2.0     0.0000    0.0000    0.0000         0\n",
      "        -1.0     0.0000    0.0000    0.0000         0\n",
      "         0.0     0.9589    0.9821    0.9704    289112\n",
      "         1.0     0.0518    0.0126    0.0203      9366\n",
      "         2.0     0.0000    0.0000    0.0000      2903\n",
      "         3.0     0.0000    0.0000    0.0000       150\n",
      "\n",
      "    accuracy                         0.9421    301531\n",
      "   macro avg     0.1684    0.1658    0.1651    301531\n",
      "weighted avg     0.9210    0.9421    0.9310    301531\n",
      "\n"
     ]
    }
   ],
   "source": [
    "report = classification_report(breaking_label, breaking_predict, digits=4)#precision and recall\n",
    "print(report)"
   ]
  },
  {
   "cell_type": "code",
   "execution_count": 21,
   "metadata": {},
   "outputs": [],
   "source": [
    "langchange_randomforest_model = joblib.load('langchange_randomforest_model')"
   ]
  },
  {
   "cell_type": "code",
   "execution_count": 24,
   "metadata": {},
   "outputs": [],
   "source": [
    "lanoredict = langchange_randomforest_model.predict(drivedata)"
   ]
  },
  {
   "cell_type": "code",
   "execution_count": 25,
   "metadata": {},
   "outputs": [
    {
     "name": "stdout",
     "output_type": "stream",
     "text": [
      "              precision    recall  f1-score   support\n",
      "\n",
      "        -2.0    1.00000   0.86299   0.92646       635\n",
      "        -1.0    0.99803   0.91802   0.95636      1659\n",
      "         0.0    0.99816   0.99998   0.99907    296132\n",
      "         1.0    0.99902   0.89328   0.94319      2277\n",
      "         2.0    0.99733   0.90338   0.94804       828\n",
      "\n",
      "    accuracy                        0.99817    301531\n",
      "   macro avg    0.99851   0.91553   0.95462    301531\n",
      "weighted avg    0.99817   0.99817   0.99812    301531\n",
      "\n"
     ]
    }
   ],
   "source": [
    "report = classification_report(drivelabel, lanoredict, digits=5)#precision and recall\n",
    "print(report)"
   ]
  },
  {
   "cell_type": "code",
   "execution_count": 26,
   "metadata": {},
   "outputs": [],
   "source": [
    "xgb_lanechange_model = joblib.load('xgb_lanechange_model')"
   ]
  },
  {
   "cell_type": "code",
   "execution_count": 27,
   "metadata": {},
   "outputs": [],
   "source": [
    "xgb_lane_predict = xgb_lanechange_model.predict(drivedata)"
   ]
  },
  {
   "cell_type": "code",
   "execution_count": 28,
   "metadata": {},
   "outputs": [
    {
     "name": "stdout",
     "output_type": "stream",
     "text": [
      "              precision    recall  f1-score   support\n",
      "\n",
      "        -2.0    0.98480   0.91811   0.95029       635\n",
      "        -1.0    0.99616   0.93731   0.96584      1659\n",
      "         0.0    0.99870   0.99986   0.99928    296132\n",
      "         1.0    0.99524   0.91875   0.95547      2277\n",
      "         2.0    0.97750   0.94444   0.96069       828\n",
      "\n",
      "    accuracy                        0.99858    301531\n",
      "   macro avg    0.99048   0.94370   0.96631    301531\n",
      "weighted avg    0.99857   0.99858   0.99856    301531\n",
      "\n"
     ]
    }
   ],
   "source": [
    "report = classification_report(drivelabel, xgb_lane_predict, digits=5)#precision and recall\n",
    "print(report)"
   ]
  },
  {
   "cell_type": "code",
   "execution_count": null,
   "metadata": {},
   "outputs": [],
   "source": []
  }
 ],
 "metadata": {
  "kernelspec": {
   "display_name": "Python 3",
   "language": "python",
   "name": "python3"
  },
  "language_info": {
   "codemirror_mode": {
    "name": "ipython",
    "version": 3
   },
   "file_extension": ".py",
   "mimetype": "text/x-python",
   "name": "python",
   "nbconvert_exporter": "python",
   "pygments_lexer": "ipython3",
   "version": "3.6.12"
  }
 },
 "nbformat": 4,
 "nbformat_minor": 4
}
